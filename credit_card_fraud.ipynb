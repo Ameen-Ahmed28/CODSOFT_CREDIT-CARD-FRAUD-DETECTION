{
  "cells": [
    {
      "cell_type": "code",
      "execution_count": null,
      "metadata": {
        "_cell_guid": "b1076dfc-b9ad-4769-8c92-a6c4dae69d19",
        "_uuid": "8f2839f25d086af736a60e9eeb907d3b93b6e0e5",
        "execution": {
          "iopub.execute_input": "2024-08-12T17:36:02.803091Z",
          "iopub.status.busy": "2024-08-12T17:36:02.802400Z",
          "iopub.status.idle": "2024-08-12T17:36:03.953852Z",
          "shell.execute_reply": "2024-08-12T17:36:03.952509Z",
          "shell.execute_reply.started": "2024-08-12T17:36:02.803056Z"
        },
        "trusted": true,
        "id": "XQTw_upuzgzd"
      },
      "outputs": [],
      "source": [
        "import numpy as np # linear algebra\n",
        "import pandas as pd # data processing, CSV file I/O (e.g. pd.read_csv)\n"
      ]
    },
    {
      "cell_type": "code",
      "source": [
        "from google.colab import drive\n",
        "drive.mount('/content/drive')"
      ],
      "metadata": {
        "id": "7JPi0djL0VGe"
      },
      "execution_count": null,
      "outputs": []
    },
    {
      "cell_type": "code",
      "execution_count": null,
      "metadata": {
        "execution": {
          "iopub.execute_input": "2024-08-13T08:58:56.737440Z",
          "iopub.status.busy": "2024-08-13T08:58:56.737017Z",
          "iopub.status.idle": "2024-08-13T08:58:56.919139Z",
          "shell.execute_reply": "2024-08-13T08:58:56.917990Z",
          "shell.execute_reply.started": "2024-08-13T08:58:56.737406Z"
        },
        "trusted": true,
        "id": "_JfCYcPozgzj"
      },
      "outputs": [],
      "source": [
        "import pandas as pd\n",
        "import numpy as np\n",
        "from sklearn.preprocessing import LabelEncoder,StandardScaler\n",
        "from sklearn.ensemble import RandomForestClassifier\n",
        "from sklearn.tree import DecisionTreeClassifier\n",
        "from sklearn.neighbors import KNeighborsClassifier\n",
        "from sklearn.naive_bayes import GaussianNB\n",
        "from sklearn.linear_model import LogisticRegression\n",
        "from sklearn.ensemble import RandomForestClassifier\n",
        "from sklearn.svm import SVC\n",
        "from sklearn.metrics import confusion_matrix, f1_score\n",
        "import matplotlib.pyplot as plt\n",
        "import seaborn as sns"
      ]
    },
    {
      "cell_type": "code",
      "execution_count": null,
      "metadata": {
        "execution": {
          "iopub.execute_input": "2024-08-13T08:58:56.922061Z",
          "iopub.status.busy": "2024-08-13T08:58:56.921162Z",
          "iopub.status.idle": "2024-08-13T08:59:09.526634Z",
          "shell.execute_reply": "2024-08-13T08:59:09.525518Z",
          "shell.execute_reply.started": "2024-08-13T08:58:56.922016Z"
        },
        "trusted": true,
        "id": "qic1GezYzgzk"
      },
      "outputs": [],
      "source": [
        "train_data = pd.read_csv(r\"/content/drive/MyDrive/Internship Aug/PROJECT 2/fraudTest.csv\")\n",
        "train_data.head()"
      ]
    },
    {
      "cell_type": "code",
      "execution_count": null,
      "metadata": {
        "execution": {
          "iopub.execute_input": "2024-08-13T08:59:09.530047Z",
          "iopub.status.busy": "2024-08-13T08:59:09.529296Z",
          "iopub.status.idle": "2024-08-13T08:59:14.316728Z",
          "shell.execute_reply": "2024-08-13T08:59:14.315716Z",
          "shell.execute_reply.started": "2024-08-13T08:59:09.530006Z"
        },
        "trusted": true,
        "id": "QU015u2Bzgzl"
      },
      "outputs": [],
      "source": [
        "test_data = pd.read_csv(r\"/content/drive/MyDrive/Internship Aug/PROJECT 2/fraudTest.csv\")\n",
        "test_data.head(3)"
      ]
    },
    {
      "cell_type": "code",
      "execution_count": null,
      "metadata": {
        "execution": {
          "iopub.execute_input": "2024-08-13T08:59:14.318369Z",
          "iopub.status.busy": "2024-08-13T08:59:14.317998Z",
          "iopub.status.idle": "2024-08-13T08:59:14.426576Z",
          "shell.execute_reply": "2024-08-13T08:59:14.425401Z",
          "shell.execute_reply.started": "2024-08-13T08:59:14.318340Z"
        },
        "trusted": true,
        "id": "TiZQbo6Azgzm"
      },
      "outputs": [],
      "source": [
        "train_data = train_data.drop(columns = [\"trans_num\",\"Unnamed: 0\",\"trans_date_trans_time\",\"cc_num\",\"merchant\",\"first\",\"last\",\"street\",\"dob\"], axis = 1)\n",
        "test_data = test_data.drop(columns = [\"trans_num\",\"Unnamed: 0\",\"trans_date_trans_time\",\"cc_num\",\"merchant\",\"first\",\"last\",\"street\",\"dob\"], axis = 1)"
      ]
    },
    {
      "cell_type": "code",
      "execution_count": null,
      "metadata": {
        "execution": {
          "iopub.execute_input": "2024-08-13T08:59:14.429336Z",
          "iopub.status.busy": "2024-08-13T08:59:14.428974Z",
          "iopub.status.idle": "2024-08-13T08:59:14.747586Z",
          "shell.execute_reply": "2024-08-13T08:59:14.746374Z",
          "shell.execute_reply.started": "2024-08-13T08:59:14.429306Z"
        },
        "trusted": true,
        "id": "rASuGmjczgzm"
      },
      "outputs": [],
      "source": [
        "train_data.isnull().sum()"
      ]
    },
    {
      "cell_type": "code",
      "execution_count": null,
      "metadata": {
        "execution": {
          "iopub.execute_input": "2024-08-13T08:59:14.749105Z",
          "iopub.status.busy": "2024-08-13T08:59:14.748786Z",
          "iopub.status.idle": "2024-08-13T08:59:14.890576Z",
          "shell.execute_reply": "2024-08-13T08:59:14.889405Z",
          "shell.execute_reply.started": "2024-08-13T08:59:14.749077Z"
        },
        "trusted": true,
        "id": "ROxLSmhvzgzn"
      },
      "outputs": [],
      "source": [
        "test_data.isnull().sum()"
      ]
    },
    {
      "cell_type": "code",
      "execution_count": null,
      "metadata": {
        "execution": {
          "iopub.execute_input": "2024-08-13T08:59:14.892946Z",
          "iopub.status.busy": "2024-08-13T08:59:14.891958Z",
          "iopub.status.idle": "2024-08-13T08:59:16.284419Z",
          "shell.execute_reply": "2024-08-13T08:59:16.283470Z",
          "shell.execute_reply.started": "2024-08-13T08:59:14.892908Z"
        },
        "trusted": true,
        "id": "LL8hTsZ1zgzo"
      },
      "outputs": [],
      "source": [
        "encoder = LabelEncoder()\n",
        "train_data[\"category\"] = encoder.fit_transform(train_data[\"category\"])\n",
        "train_data[\"gender\"] = encoder.fit_transform(train_data[\"gender\"])\n",
        "train_data[\"city\"] = encoder.fit_transform(train_data[\"city\"])\n",
        "train_data[\"state\"] = encoder.fit_transform(train_data[\"state\"])\n",
        "train_data[\"job\"] = encoder.fit_transform(train_data[\"job\"])\n"
      ]
    },
    {
      "cell_type": "code",
      "execution_count": null,
      "metadata": {
        "execution": {
          "iopub.execute_input": "2024-08-13T08:59:16.286064Z",
          "iopub.status.busy": "2024-08-13T08:59:16.285748Z",
          "iopub.status.idle": "2024-08-13T08:59:16.301946Z",
          "shell.execute_reply": "2024-08-13T08:59:16.300846Z",
          "shell.execute_reply.started": "2024-08-13T08:59:16.286037Z"
        },
        "trusted": true,
        "id": "M-XT0mxlzgzp"
      },
      "outputs": [],
      "source": [
        "train_data.head(3)"
      ]
    },
    {
      "cell_type": "code",
      "execution_count": null,
      "metadata": {
        "execution": {
          "iopub.execute_input": "2024-08-13T08:59:16.303661Z",
          "iopub.status.busy": "2024-08-13T08:59:16.303286Z",
          "iopub.status.idle": "2024-08-13T08:59:16.913521Z",
          "shell.execute_reply": "2024-08-13T08:59:16.912439Z",
          "shell.execute_reply.started": "2024-08-13T08:59:16.303626Z"
        },
        "trusted": true,
        "id": "Kjt0y2_Rzgzq"
      },
      "outputs": [],
      "source": [
        "test_data[\"category\"] = encoder.fit_transform(test_data[\"category\"])\n",
        "test_data[\"gender\"] = encoder.fit_transform(test_data[\"gender\"])\n",
        "test_data[\"city\"] = encoder.fit_transform(test_data[\"city\"])\n",
        "test_data[\"state\"] = encoder.fit_transform(test_data[\"state\"])\n",
        "test_data[\"job\"] = encoder.fit_transform(test_data[\"job\"])\n"
      ]
    },
    {
      "cell_type": "code",
      "execution_count": null,
      "metadata": {
        "execution": {
          "iopub.execute_input": "2024-08-13T08:59:16.915427Z",
          "iopub.status.busy": "2024-08-13T08:59:16.914956Z",
          "iopub.status.idle": "2024-08-13T08:59:16.932061Z",
          "shell.execute_reply": "2024-08-13T08:59:16.930596Z",
          "shell.execute_reply.started": "2024-08-13T08:59:16.915386Z"
        },
        "trusted": true,
        "id": "pWgSuQC_zgzq"
      },
      "outputs": [],
      "source": [
        "test_data.head(3)"
      ]
    },
    {
      "cell_type": "code",
      "execution_count": null,
      "metadata": {
        "execution": {
          "iopub.execute_input": "2024-08-13T08:59:16.936916Z",
          "iopub.status.busy": "2024-08-13T08:59:16.935993Z",
          "iopub.status.idle": "2024-08-13T08:59:18.704395Z",
          "shell.execute_reply": "2024-08-13T08:59:18.703192Z",
          "shell.execute_reply.started": "2024-08-13T08:59:16.936882Z"
        },
        "trusted": true,
        "id": "ogM9YE1Szgzr"
      },
      "outputs": [],
      "source": [
        "plt.figure(figsize = (10,10))\n",
        "sns.heatmap(train_data.corr(), cmap = \"Reds\", annot = True, fmt = \".2f\")"
      ]
    },
    {
      "cell_type": "code",
      "execution_count": null,
      "metadata": {
        "execution": {
          "iopub.execute_input": "2024-08-13T08:59:18.706375Z",
          "iopub.status.busy": "2024-08-13T08:59:18.705943Z",
          "iopub.status.idle": "2024-08-13T08:59:19.169088Z",
          "shell.execute_reply": "2024-08-13T08:59:19.168056Z",
          "shell.execute_reply.started": "2024-08-13T08:59:18.706338Z"
        },
        "trusted": true,
        "id": "-yI1M-iNzgzr"
      },
      "outputs": [],
      "source": [
        "sns.set_style(\"darkgrid\")\n",
        "sns.countplot(data = train_data, x = \"gender\", hue = \"gender\")"
      ]
    },
    {
      "cell_type": "code",
      "execution_count": null,
      "metadata": {
        "execution": {
          "iopub.execute_input": "2024-08-13T08:59:19.171196Z",
          "iopub.status.busy": "2024-08-13T08:59:19.170747Z",
          "iopub.status.idle": "2024-08-13T08:59:19.251276Z",
          "shell.execute_reply": "2024-08-13T08:59:19.250187Z",
          "shell.execute_reply.started": "2024-08-13T08:59:19.171154Z"
        },
        "trusted": true,
        "id": "U-pXA23mzgzs"
      },
      "outputs": [],
      "source": [
        "y_train = train_data[\"is_fraud\"]\n",
        "x_train = train_data.drop([\"is_fraud\"], axis = 1)\n",
        "y_test = test_data[\"is_fraud\"]\n",
        "x_test = test_data.drop([\"is_fraud\"], axis = 1)"
      ]
    },
    {
      "cell_type": "code",
      "execution_count": null,
      "metadata": {
        "execution": {
          "iopub.execute_input": "2024-08-13T08:59:19.252895Z",
          "iopub.status.busy": "2024-08-13T08:59:19.252566Z",
          "iopub.status.idle": "2024-08-13T08:59:19.259975Z",
          "shell.execute_reply": "2024-08-13T08:59:19.258883Z",
          "shell.execute_reply.started": "2024-08-13T08:59:19.252868Z"
        },
        "trusted": true,
        "id": "zn1WPyyWzgzs"
      },
      "outputs": [],
      "source": [
        "x_train.shape, x_test.shape, y_train.shape, y_test.shape"
      ]
    },
    {
      "cell_type": "markdown",
      "metadata": {
        "id": "UTbPcD-jzgzs"
      },
      "source": [
        "**USING DECISION-TREE**"
      ]
    },
    {
      "cell_type": "code",
      "execution_count": null,
      "metadata": {
        "execution": {
          "iopub.execute_input": "2024-08-13T08:59:19.261877Z",
          "iopub.status.busy": "2024-08-13T08:59:19.261420Z",
          "iopub.status.idle": "2024-08-13T08:59:36.373349Z",
          "shell.execute_reply": "2024-08-13T08:59:36.372182Z",
          "shell.execute_reply.started": "2024-08-13T08:59:19.261841Z"
        },
        "trusted": true,
        "id": "01xH69J1zgzu"
      },
      "outputs": [],
      "source": [
        "dtc = DecisionTreeClassifier(max_depth = 6)\n",
        "dtc.fit(x_train,y_train)\n",
        "dtc.score(x_train,y_train), dtc.score(x_test, y_test)"
      ]
    },
    {
      "cell_type": "code",
      "execution_count": null,
      "metadata": {
        "execution": {
          "iopub.execute_input": "2024-08-13T09:02:28.680650Z",
          "iopub.status.busy": "2024-08-13T09:02:28.680084Z",
          "iopub.status.idle": "2024-08-13T09:02:29.407360Z",
          "shell.execute_reply": "2024-08-13T09:02:29.406180Z",
          "shell.execute_reply.started": "2024-08-13T09:02:28.680607Z"
        },
        "trusted": true,
        "id": "Tf4B8DDBzgzu"
      },
      "outputs": [],
      "source": [
        "cf = confusion_matrix(y_test, dtc.predict(x_test))\n",
        "print(f1_score(y_test, dtc.predict(x_test)))\n",
        "sns.heatmap(data = cf, annot = True, fmt = \"d\", cmap = \"Blues\")"
      ]
    },
    {
      "cell_type": "code",
      "execution_count": null,
      "metadata": {
        "execution": {
          "iopub.execute_input": "2024-08-13T03:57:10.365809Z",
          "iopub.status.busy": "2024-08-13T03:57:10.364850Z",
          "iopub.status.idle": "2024-08-13T03:57:11.481174Z",
          "shell.execute_reply": "2024-08-13T03:57:11.480033Z",
          "shell.execute_reply.started": "2024-08-13T03:57:10.365772Z"
        },
        "trusted": true,
        "id": "jEHIsBZOzgzv"
      },
      "outputs": [],
      "source": [
        "gnb = GaussianNB()\n",
        "gnb.fit(x_train,y_train)\n",
        "gnb.score(x_train,y_train), gnb.score(x_test, y_test)"
      ]
    },
    {
      "cell_type": "code",
      "execution_count": null,
      "metadata": {
        "execution": {
          "iopub.execute_input": "2024-08-13T03:57:16.883833Z",
          "iopub.status.busy": "2024-08-13T03:57:16.883427Z",
          "iopub.status.idle": "2024-08-13T03:57:17.662206Z",
          "shell.execute_reply": "2024-08-13T03:57:17.661143Z",
          "shell.execute_reply.started": "2024-08-13T03:57:16.883803Z"
        },
        "trusted": true,
        "id": "0bogahq6zgzv",
        "colab": {
          "base_uri": "https://localhost:8080/",
          "height": 465
        },
        "outputId": "15ffe2c4-fb7c-4781-c8be-7399402b4884"
      },
      "outputs": [
        {
          "output_type": "stream",
          "name": "stdout",
          "text": [
            "0.2830531576556111\n"
          ]
        },
        {
          "output_type": "execute_result",
          "data": {
            "text/plain": [
              "<Axes: >"
            ]
          },
          "metadata": {},
          "execution_count": 30
        },
        {
          "output_type": "display_data",
          "data": {
            "text/plain": [
              "<Figure size 640x480 with 2 Axes>"
            ],
            "image/png": "[encoded data removed]"
          },
          "metadata": {}
        }
      ],
      "source": [
        "cf = confusion_matrix(y_test, gnb.predict(x_test))\n",
        "print(f1_score(y_test, gnb.predict(x_test)))\n",
        "sns.heatmap(data = cf, annot = True, fmt = \"d\", cmap = \"Blues\")"
      ]
    },
    {
      "cell_type": "code",
      "execution_count": null,
      "metadata": {
        "execution": {
          "iopub.execute_input": "2024-08-13T03:57:57.171761Z",
          "iopub.status.busy": "2024-08-13T03:57:57.171021Z",
          "iopub.status.idle": "2024-08-13T04:00:26.911006Z",
          "shell.execute_reply": "2024-08-13T04:00:26.909894Z",
          "shell.execute_reply.started": "2024-08-13T03:57:57.171725Z"
        },
        "trusted": true,
        "id": "RkIv_ukDzgzw"
      },
      "outputs": [],
      "source": [
        "rfc = RandomForestClassifier(n_estimators = 20)\n",
        "rfc.fit(x_train, y_train)\n",
        "rfc.score(x_train, y_train), rfc.score(x_test, y_test)"
      ]
    },
    {
      "cell_type": "code",
      "execution_count": null,
      "metadata": {
        "execution": {
          "iopub.execute_input": "2024-08-13T04:00:58.564017Z",
          "iopub.status.busy": "2024-08-13T04:00:58.563582Z",
          "iopub.status.idle": "2024-08-13T04:01:01.833053Z",
          "shell.execute_reply": "2024-08-13T04:01:01.831921Z",
          "shell.execute_reply.started": "2024-08-13T04:00:58.563986Z"
        },
        "trusted": true,
        "colab": {
          "base_uri": "https://localhost:8080/",
          "height": 465
        },
        "id": "SX5yqCGIzgzw",
        "outputId": "20fdc5e2-540a-4bfa-9649-9501bac1573d"
      },
      "outputs": [
        {
          "output_type": "stream",
          "name": "stdout",
          "text": [
            "0.9879745343079462\n"
          ]
        },
        {
          "output_type": "execute_result",
          "data": {
            "text/plain": [
              "<Axes: >"
            ]
          },
          "metadata": {},
          "execution_count": 27
        },
        {
          "output_type": "display_data",
          "data": {
            "text/plain": [
              "<Figure size 640x480 with 2 Axes>"
            ],
            "image/png": "[encoded data removed]"
          },
          "metadata": {}
        }
      ],
      "source": [
        "cf = confusion_matrix(y_test, rfc.predict(x_test))\n",
        "print(f1_score(y_test, rfc.predict(x_test)))\n",
        "sns.heatmap(data = cf, annot = True, fmt = \"d\", cmap = \"Blues\")"
      ]
    },
    {
      "cell_type": "code",
      "execution_count": null,
      "metadata": {
        "execution": {
          "iopub.execute_input": "2024-08-13T04:02:21.211291Z",
          "iopub.status.busy": "2024-08-13T04:02:21.210885Z",
          "iopub.status.idle": "2024-08-13T04:04:15.756624Z",
          "shell.execute_reply": "2024-08-13T04:04:15.755604Z",
          "shell.execute_reply.started": "2024-08-13T04:02:21.211261Z"
        },
        "trusted": true,
        "colab": {
          "base_uri": "https://localhost:8080/"
        },
        "id": "sgvY3SQszgzw",
        "outputId": "353ba1d5-c64d-44c1-c66a-94617deaddad"
      },
      "outputs": [
        {
          "output_type": "execute_result",
          "data": {
            "text/plain": [
              "(0.9972809999298207, 0.9972809999298207)"
            ]
          },
          "metadata": {},
          "execution_count": 28
        }
      ],
      "source": [
        "knn = KNeighborsClassifier(n_neighbors = 5)\n",
        "knn.fit(x_train, y_train)\n",
        "knn.score(x_train, y_train), knn.score(x_test, y_test)"
      ]
    },
    {
      "cell_type": "code",
      "execution_count": null,
      "metadata": {
        "execution": {
          "iopub.execute_input": "2024-08-13T04:04:42.567908Z",
          "iopub.status.busy": "2024-08-13T04:04:42.567490Z"
        },
        "trusted": true,
        "colab": {
          "base_uri": "https://localhost:8080/",
          "height": 465
        },
        "id": "MPIKrU8Uzgzx",
        "outputId": "158390bd-bb90-47c1-bc69-986ca98fff73"
      },
      "outputs": [
        {
          "output_type": "stream",
          "name": "stdout",
          "text": [
            "0.5488205434458048\n"
          ]
        },
        {
          "output_type": "execute_result",
          "data": {
            "text/plain": [
              "<Axes: >"
            ]
          },
          "metadata": {},
          "execution_count": 29
        },
        {
          "output_type": "display_data",
          "data": {
            "text/plain": [
              "<Figure size 640x480 with 2 Axes>"
            ],
            "image/png": "[encoded data removed]"
          },
          "metadata": {}
        }
      ],
      "source": [
        "cf = confusion_matrix(y_test, knn.predict(x_test))\n",
        "print(f1_score(y_test, knn.predict(x_test)))\n",
        "sns.heatmap(data = cf, annot = True, fmt = \"d\", cmap = \"Blues\")"
      ]
    },
    {
      "cell_type": "code",
      "execution_count": null,
      "metadata": {
        "execution": {
          "iopub.execute_input": "2024-08-13T09:04:30.912951Z",
          "iopub.status.busy": "2024-08-13T09:04:30.911995Z",
          "iopub.status.idle": "2024-08-13T09:47:25.870797Z",
          "shell.execute_reply": "2024-08-13T09:47:25.869354Z",
          "shell.execute_reply.started": "2024-08-13T09:04:30.912915Z"
        },
        "trusted": true,
        "id": "Az31Gb5Nzgzx",
        "colab": {
          "base_uri": "https://localhost:8080/"
        },
        "outputId": "7b8997e0-9bf2-448a-fa25-3a58f191a262"
      },
      "outputs": [
        {
          "output_type": "execute_result",
          "data": {
            "text/plain": [
              "(0.9961401355721147, 0.9961401355721147)"
            ]
          },
          "metadata": {},
          "execution_count": 25
        }
      ],
      "source": [
        "svc = SVC(kernel = \"rbf\")\n",
        "svc.fit(x_train, y_train)\n",
        "svc.score(x_train, y_train), svc.score(x_test, y_test)"
      ]
    }
  ],
  "metadata": {
    "kaggle": {
      "accelerator": "none",
      "dataSources": [
        {
          "datasetId": 817870,
          "sourceId": 1399887,
          "sourceType": "datasetVersion"
        }
      ],
      "dockerImageVersionId": 30746,
      "isGpuEnabled": false,
      "isInternetEnabled": true,
      "language": "python",
      "sourceType": "notebook"
    },
    "kernelspec": {
      "display_name": "Python 3",
      "language": "python",
      "name": "python3"
    },
    "language_info": {
      "codemirror_mode": {
        "name": "ipython",
        "version": 3
      },
      "file_extension": ".py",
      "mimetype": "text/x-python",
      "name": "python",
      "nbconvert_exporter": "python",
      "pygments_lexer": "ipython3",
      "version": "3.10.13"
    },
    "colab": {
      "provenance": []
    }
  },
  "nbformat": 4,
  "nbformat_minor": 0
}